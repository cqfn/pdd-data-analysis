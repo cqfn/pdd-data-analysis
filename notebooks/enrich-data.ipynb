{
 "cells": [
  {
   "cell_type": "code",
   "execution_count": 1,
   "metadata": {
    "collapsed": true
   },
   "outputs": [],
   "source": [
    "import json\n",
    "\n",
    "files = ['../data/extended-issues-0.json', '../data/extended-issues-1.json', '../data/extended-issues-2.json']"
   ]
  },
  {
   "cell_type": "code",
   "execution_count": 2,
   "outputs": [],
   "source": [
    "with open(\"../data/dataset.v3.issues_extended_urls.json\") as file:\n",
    "    in1 = (json.load(file)).get('issues')"
   ],
   "metadata": {
    "collapsed": false,
    "pycharm": {
     "name": "#%%\n"
    }
   }
  },
  {
   "cell_type": "code",
   "execution_count": 3,
   "outputs": [
    {
     "data": {
      "text/plain": "8975"
     },
     "execution_count": 3,
     "metadata": {},
     "output_type": "execute_result"
    }
   ],
   "source": [
    "len(in1)"
   ],
   "metadata": {
    "collapsed": false,
    "pycharm": {
     "name": "#%%\n"
    }
   }
  },
  {
   "cell_type": "code",
   "execution_count": 4,
   "outputs": [],
   "source": [
    "in2 = []\n",
    "for f in files:\n",
    "    with open(f) as file:\n",
    "        data = json.load(file)\n",
    "        in2.extend(data)"
   ],
   "metadata": {
    "collapsed": false,
    "pycharm": {
     "name": "#%%\n"
    }
   }
  },
  {
   "cell_type": "code",
   "execution_count": 5,
   "outputs": [
    {
     "data": {
      "text/plain": "10489"
     },
     "execution_count": 5,
     "metadata": {},
     "output_type": "execute_result"
    }
   ],
   "source": [
    "len(in2)"
   ],
   "metadata": {
    "collapsed": false,
    "pycharm": {
     "name": "#%%\n"
    }
   }
  },
  {
   "cell_type": "code",
   "execution_count": 14,
   "outputs": [],
   "source": [
    "result = []\n",
    "for d2 in in2:\n",
    "    issueLink = d2.get('issueLink', None)\n",
    "    if issueLink:\n",
    "        out =  [d1 for d1 in in1 if d1.get('html_url', None) == issueLink]\n",
    "        if len(out) == 1:\n",
    "            d1 = out[0]\n",
    "            d2['body'] = d1.get('body', '')\n",
    "            d2['title'] = d1.get('title', '')\n",
    "        else:\n",
    "            d2['body'] = ''\n",
    "            d2['title'] = ''\n",
    "    else:\n",
    "        d2['body'] = ''\n",
    "        d2['title'] = ''\n",
    "    result.append(d2)"
   ],
   "metadata": {
    "collapsed": false,
    "pycharm": {
     "name": "#%%\n"
    }
   }
  },
  {
   "cell_type": "code",
   "execution_count": 15,
   "outputs": [
    {
     "data": {
      "text/plain": "10489"
     },
     "execution_count": 15,
     "metadata": {},
     "output_type": "execute_result"
    }
   ],
   "source": [
    "len(result)"
   ],
   "metadata": {
    "collapsed": false,
    "pycharm": {
     "name": "#%%\n"
    }
   }
  },
  {
   "cell_type": "code",
   "execution_count": 16,
   "outputs": [
    {
     "data": {
      "text/plain": "[{'done': True,\n  'id': '400-ad30c01b',\n  'body': '',\n  'file': '...',\n  'role': 'DEV',\n  'time': '2019-02-17T17:12:45Z',\n  'email': '...',\n  'lines': '45-47',\n  'owner': 'Harvest-foundation',\n  'author': '...',\n  'issueNo': '433',\n  'estimate': '30',\n  'ticketNo': '400',\n  'issueLink': 'https://github.com/Harvest-foundation/core/issues/433',\n  'title': ''},\n {'done': True,\n  'id': '377-0c0acc5c',\n  'body': '',\n  'file': '...',\n  'role': 'DEV',\n  'time': '2019-01-30T09:38:58Z',\n  'email': '...',\n  'lines': '42-45',\n  'owner': 'Harvest-foundation',\n  'author': '...',\n  'issueNo': '397',\n  'estimate': '30',\n  'ticketNo': '377',\n  'issueLink': 'https://github.com/Harvest-foundation/core/issues/397',\n  'issueClosed': '2019-03-08T08:50:34+00:00',\n  'title': ''},\n {'done': True,\n  'id': '397-bdc7b71d',\n  'body': '',\n  'file': '...',\n  'role': 'DEV',\n  'time': '2019-03-08T08:44:08Z',\n  'email': '...',\n  'lines': '41-46',\n  'owner': 'Harvest-foundation',\n  'author': '...',\n  'issueNo': '470',\n  'estimate': '30',\n  'ticketNo': '397',\n  'issueLink': 'https://github.com/Harvest-foundation/core/issues/470',\n  'title': ''},\n {'done': True,\n  'id': '397-0c0acc5c',\n  'body': '',\n  'file': '...',\n  'role': 'DEV',\n  'time': '2019-03-08T08:44:08Z',\n  'email': '...',\n  'lines': '43-46',\n  'owner': 'Harvest-foundation',\n  'author': '...',\n  'issueNo': '471',\n  'estimate': '30',\n  'ticketNo': '397',\n  'issueLink': 'https://github.com/Harvest-foundation/core/issues/471',\n  'title': ''},\n {'done': True,\n  'id': '430-57f06581',\n  'body': '',\n  'file': '...',\n  'role': 'DEV',\n  'time': '2019-03-05T14:03:12Z',\n  'email': '...',\n  'lines': '38-40',\n  'owner': 'Harvest-foundation',\n  'author': '...',\n  'issueNo': '463',\n  'estimate': '30',\n  'ticketNo': '430',\n  'issueLink': 'https://github.com/Harvest-foundation/core/issues/463',\n  'issueClosed': '2019-03-11T05:07:19+00:00',\n  'title': ''}]"
     },
     "execution_count": 16,
     "metadata": {},
     "output_type": "execute_result"
    }
   ],
   "source": [
    "result[1000:1005]"
   ],
   "metadata": {
    "collapsed": false,
    "pycharm": {
     "name": "#%%\n"
    }
   }
  },
  {
   "cell_type": "code",
   "execution_count": 17,
   "outputs": [],
   "source": [
    "with open(\"../data/result.json\", 'w') as file:\n",
    "    json.dump(result, file, indent=2)\n"
   ],
   "metadata": {
    "collapsed": false,
    "pycharm": {
     "name": "#%%\n"
    }
   }
  }
 ],
 "metadata": {
  "kernelspec": {
   "display_name": "Python 3",
   "language": "python",
   "name": "python3"
  },
  "language_info": {
   "codemirror_mode": {
    "name": "ipython",
    "version": 2
   },
   "file_extension": ".py",
   "mimetype": "text/x-python",
   "name": "python",
   "nbconvert_exporter": "python",
   "pygments_lexer": "ipython2",
   "version": "2.7.6"
  }
 },
 "nbformat": 4,
 "nbformat_minor": 0
}