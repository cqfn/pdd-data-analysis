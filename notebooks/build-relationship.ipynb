{
 "cells": [
  {
   "cell_type": "code",
   "execution_count": 137,
   "metadata": {
    "collapsed": true
   },
   "outputs": [],
   "source": [
    "import os\n",
    "import json"
   ]
  },
  {
   "cell_type": "code",
   "execution_count": 138,
   "outputs": [],
   "source": [
    "with open(\"../data/enriched-extended-issues.json\") as file:\n",
    "    data = json.load(file)"
   ],
   "metadata": {
    "collapsed": false,
    "pycharm": {
     "name": "#%%\n"
    }
   }
  },
  {
   "cell_type": "code",
   "execution_count": 139,
   "outputs": [
    {
     "data": {
      "text/plain": "10489"
     },
     "execution_count": 139,
     "metadata": {},
     "output_type": "execute_result"
    }
   ],
   "source": [
    "len(data)"
   ],
   "metadata": {
    "collapsed": false,
    "pycharm": {
     "name": "#%%\n"
    }
   }
  },
  {
   "cell_type": "code",
   "execution_count": 140,
   "outputs": [
    {
     "data": {
      "text/plain": "[{'done': True,\n  'id': '1-05c83321',\n  'body': '',\n  'file': '...',\n  'role': 'DEV',\n  'time': '2021-07-14T16:36:00Z',\n  'email': '...',\n  'lines': '1-1',\n  'owner': 'AlvarezNunez',\n  'author': '...',\n  'issueNo': '2',\n  'estimate': '60',\n  'ticketNo': '1',\n  'issueLink': 'https://github.com/AlvarezNunez/Jisland/issues/2',\n  'title': ''},\n {'done': True,\n  'comments': 0,\n  'state': 'open',\n  'closed_at': None,\n  'created_at': '2021-07-14T12:53:56Z',\n  'updated_at': '2021-07-14T12:53:56Z',\n  'assignees': [],\n  'locked': False,\n  'labels': [],\n  'milestone': None,\n  'author_association': 'COLLABORATOR',\n  'code': {'changes': 6, 'additions': 3, 'deletions': 3},\n  'all_commits': [{'comment_count': 3,\n    'raw_stats': {'total': 6, 'additions': 3, 'deletions': 3},\n    'files': [{'additions': 3,\n      'changes': 6,\n      'deletions': 3,\n      'status': 'modified',\n      'filename': '2.java'}]}],\n  'referenced': 1,\n  'id': '1-c4c48bfd',\n  'body': 'The puzzle `1-c4c48bfd` from #1 has to be resolved: \\n\\nhttps://github.com/AlvarezNunez/demo_pdd/blob/e3f7d52c5267a33253122ce9c11b174d09874255/2.java#L7-L7\\n\\nThe puzzle was created by AlvarezNunez on 14-Jul-21. \\n\\n role: DEV. \\n\\nIf you have any technical questions, don\\'t ask me, submit new tickets instead. The task will be \\\\\"done\\\\\" when the problem is fixed and the text of the puzzle is _removed_ from the source code. Here is more about [PDD](http://www.yegor256.com/2009/03/04/pdd.html) and [about me](http://www.yegor256.com/2017/04/05/pdd-in-action.html). \\n',\n  'file': '...',\n  'role': 'DEV',\n  'time': '2021-07-14T12:53:51Z',\n  'email': '...',\n  'lines': '7-7',\n  'owner': 'AlvarezNunez',\n  'author': '...',\n  'issueNo': '2',\n  'estimate': '0',\n  'ticketNo': '1',\n  'issueLink': 'https://github.com/AlvarezNunez/demo_pdd/issues/2',\n  'title': '2.java:7: Need method Alfa (do the best!)'}]"
     },
     "execution_count": 140,
     "metadata": {},
     "output_type": "execute_result"
    }
   ],
   "source": [
    "data[:2]"
   ],
   "metadata": {
    "collapsed": false,
    "pycharm": {
     "name": "#%%\n"
    }
   }
  },
  {
   "cell_type": "code",
   "execution_count": 141,
   "outputs": [
    {
     "data": {
      "text/plain": "'https://github.com/AlvarezNunez/demo_pdd/issues'"
     },
     "execution_count": 141,
     "metadata": {},
     "output_type": "execute_result"
    }
   ],
   "source": [
    "issueLink = 'https://github.com/AlvarezNunez/demo_pdd/issues/2'\n",
    "rootLink = '/'.join(issueLink.split(os.sep)[:-1])\n",
    "rootLink"
   ],
   "metadata": {
    "collapsed": false,
    "pycharm": {
     "name": "#%%\n"
    }
   }
  },
  {
   "cell_type": "code",
   "execution_count": 142,
   "outputs": [],
   "source": [
    "new_data = []\n",
    "for d in data:\n",
    "    issueLink = d.get('issueLink', None)\n",
    "    ticketNo = d.get('ticketNo', None)\n",
    "    if issueLink and issueLink != 'unknown':\n",
    "        rootLink = '/'.join(issueLink.split(os.sep)[:-1])\n",
    "        d['parentIssue'] = rootLink + '/' + ticketNo\n",
    "        parent = [i for idx, i in enumerate(data) if i.get('issueLink', None) == d['parentIssue']]\n",
    "        if len(parent) > 0:\n",
    "            parent = parent[0]\n",
    "            d['parentIssueData'] = { 'id': parent.get('id', 'None'), 'state': parent.get('state', None), 'issueLink': parent.get('issueLink', None) }\n",
    "        else:\n",
    "            d['parentIssueData'] = None\n",
    "    else:\n",
    "        d['issueLink'] = None\n",
    "        d['parentIssue'] = None\n",
    "        d['parentIssueData'] = None\n",
    "    new_data.append(d)"
   ],
   "metadata": {
    "collapsed": false,
    "pycharm": {
     "name": "#%%\n"
    }
   }
  },
  {
   "cell_type": "code",
   "execution_count": 143,
   "outputs": [],
   "source": [
    "data_set = dict();"
   ],
   "metadata": {
    "collapsed": false,
    "pycharm": {
     "name": "#%%\n"
    }
   }
  },
  {
   "cell_type": "code",
   "execution_count": 144,
   "outputs": [
    {
     "data": {
      "text/plain": "[{'done': True,\n  'id': '1-05c83321',\n  'body': '',\n  'file': '...',\n  'role': 'DEV',\n  'time': '2021-07-14T16:36:00Z',\n  'email': '...',\n  'lines': '1-1',\n  'owner': 'AlvarezNunez',\n  'author': '...',\n  'issueNo': '2',\n  'estimate': '60',\n  'ticketNo': '1',\n  'issueLink': 'https://github.com/AlvarezNunez/Jisland/issues/2',\n  'title': '',\n  'parentIssue': 'https://github.com/AlvarezNunez/Jisland/issues/1',\n  'parentIssueData': None},\n {'done': True,\n  'comments': 0,\n  'state': 'open',\n  'closed_at': None,\n  'created_at': '2021-07-14T12:53:56Z',\n  'updated_at': '2021-07-14T12:53:56Z',\n  'assignees': [],\n  'locked': False,\n  'labels': [],\n  'milestone': None,\n  'author_association': 'COLLABORATOR',\n  'code': {'changes': 6, 'additions': 3, 'deletions': 3},\n  'all_commits': [{'comment_count': 3,\n    'raw_stats': {'total': 6, 'additions': 3, 'deletions': 3},\n    'files': [{'additions': 3,\n      'changes': 6,\n      'deletions': 3,\n      'status': 'modified',\n      'filename': '2.java'}]}],\n  'referenced': 1,\n  'id': '1-c4c48bfd',\n  'body': 'The puzzle `1-c4c48bfd` from #1 has to be resolved: \\n\\nhttps://github.com/AlvarezNunez/demo_pdd/blob/e3f7d52c5267a33253122ce9c11b174d09874255/2.java#L7-L7\\n\\nThe puzzle was created by AlvarezNunez on 14-Jul-21. \\n\\n role: DEV. \\n\\nIf you have any technical questions, don\\'t ask me, submit new tickets instead. The task will be \\\\\"done\\\\\" when the problem is fixed and the text of the puzzle is _removed_ from the source code. Here is more about [PDD](http://www.yegor256.com/2009/03/04/pdd.html) and [about me](http://www.yegor256.com/2017/04/05/pdd-in-action.html). \\n',\n  'file': '...',\n  'role': 'DEV',\n  'time': '2021-07-14T12:53:51Z',\n  'email': '...',\n  'lines': '7-7',\n  'owner': 'AlvarezNunez',\n  'author': '...',\n  'issueNo': '2',\n  'estimate': '0',\n  'ticketNo': '1',\n  'issueLink': 'https://github.com/AlvarezNunez/demo_pdd/issues/2',\n  'title': '2.java:7: Need method Alfa (do the best!)',\n  'parentIssue': 'https://github.com/AlvarezNunez/demo_pdd/issues/1',\n  'parentIssueData': None}]"
     },
     "execution_count": 144,
     "metadata": {},
     "output_type": "execute_result"
    }
   ],
   "source": [
    "new_data[:2]"
   ],
   "metadata": {
    "collapsed": false,
    "pycharm": {
     "name": "#%%\n"
    }
   }
  },
  {
   "cell_type": "code",
   "execution_count": 145,
   "outputs": [],
   "source": [
    "for d in new_data:\n",
    "    parentIssue = d.get('parentIssue', None)\n",
    "    group = data_set.get(parentIssue, [])\n",
    "    current = { 'id': d.get('id', 'None'), 'state': d.get('state', None), 'issueLink': d.get('issueLink', None) }\n",
    "    group.append(current)\n",
    "    data_set[parentIssue] = group"
   ],
   "metadata": {
    "collapsed": false,
    "pycharm": {
     "name": "#%%\n"
    }
   }
  },
  {
   "cell_type": "code",
   "execution_count": 146,
   "outputs": [],
   "source": [
    "del data_set[None]"
   ],
   "metadata": {
    "collapsed": false,
    "pycharm": {
     "name": "#%%\n"
    }
   }
  },
  {
   "cell_type": "code",
   "execution_count": 147,
   "outputs": [],
   "source": [
    "for parent, children in data_set.items():\n",
    "    result = [(idx, i) for idx, i in enumerate(new_data) if i['issueLink'] == parent]\n",
    "    if len(result) > 0:\n",
    "        idx, issue = result[0]\n",
    "        issue['childrenIssues'] = children\n",
    "        new_data[idx] = issue"
   ],
   "metadata": {
    "collapsed": false,
    "pycharm": {
     "name": "#%%\n"
    }
   }
  },
  {
   "cell_type": "code",
   "execution_count": 148,
   "outputs": [],
   "source": [
    "c = [x for x in new_data if len(x.get('childrenIssues', [])) > 0]"
   ],
   "metadata": {
    "collapsed": false,
    "pycharm": {
     "name": "#%%\n"
    }
   }
  },
  {
   "cell_type": "code",
   "execution_count": 152,
   "outputs": [],
   "source": [
    "final_data = []\n",
    "for d in new_data:\n",
    "    if d['parentIssueData'] is None:\n",
    "        d['parentIssue'] = { 'id': None, 'state': None, 'issueLink': d['parentIssue'] }\n",
    "    else:\n",
    "        d['parentIssue'] = d['parentIssueData']\n",
    "    del d['parentIssueData']\n",
    "    final_data.append(d)"
   ],
   "metadata": {
    "collapsed": false,
    "pycharm": {
     "name": "#%%\n"
    }
   }
  },
  {
   "cell_type": "code",
   "execution_count": 155,
   "outputs": [],
   "source": [
    "with open(\"../data/enriched-extended-issues-with-relationship.json\", 'w') as file:\n",
    "    json.dump(final_data, file, indent=2)\n",
    "\n"
   ],
   "metadata": {
    "collapsed": false,
    "pycharm": {
     "name": "#%%\n"
    }
   }
  }
 ],
 "metadata": {
  "kernelspec": {
   "display_name": "Python 3",
   "language": "python",
   "name": "python3"
  },
  "language_info": {
   "codemirror_mode": {
    "name": "ipython",
    "version": 2
   },
   "file_extension": ".py",
   "mimetype": "text/x-python",
   "name": "python",
   "nbconvert_exporter": "python",
   "pygments_lexer": "ipython2",
   "version": "2.7.6"
  }
 },
 "nbformat": 4,
 "nbformat_minor": 0
}